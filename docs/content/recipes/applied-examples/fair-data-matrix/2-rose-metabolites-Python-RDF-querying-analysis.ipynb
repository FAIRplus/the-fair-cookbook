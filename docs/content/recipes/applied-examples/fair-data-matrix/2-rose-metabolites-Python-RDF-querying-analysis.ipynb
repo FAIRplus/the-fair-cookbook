{
 "cells": [
  {
   "cell_type": "markdown",
   "metadata": {},
   "source": [
    "# Exploring a rose garden with SPARQL"
   ]
  },
  {
   "cell_type": "markdown",
   "metadata": {},
   "source": [
    "*Philippe Rocca-Serra (philippe.rocca-serra[at]oerc.ox.ac.uk), University of Oxford e-Research Centre"
   ]
  },
  {
   "cell_type": "code",
   "execution_count": 1,
   "metadata": {},
   "outputs": [],
   "source": [
    "import rdflib\n",
    "from rdflib import Graph, RDF\n",
    "from IPython.core.display import display, HTML\n",
    "import os\n",
    "import json\n",
    "import csv\n",
    "import uuid\n",
    "\n",
    "from SPARQLWrapper import SPARQLWrapper, SPARQLWrapper2, JSON, JSONLD, CSV, TSV, N3, RDF, RDFXML, TURTLE\n",
    "import pandas as pds\n",
    "import itertools\n",
    "\n",
    "import numpy as np\n",
    "from plotnine import *\n"
   ]
  },
  {
   "cell_type": "code",
   "execution_count": 2,
   "metadata": {},
   "outputs": [],
   "source": [
    "def queryResultToHTMLTable(queryResult):\n",
    "    \n",
    "   HTMLResult = '<table><tr style=\"color:white;background-color:#43BFC7;font-weight:bold\">'\n",
    "   # print variable names and build header:\n",
    "   for varName in queryResult.vars:\n",
    "       HTMLResult = HTMLResult + '<td>' + varName + '</td>'\n",
    "   HTMLResult = HTMLResult + '</tr>'\n",
    "\n",
    "   # print values from each row and build table of results\n",
    "   for row in queryResult:\n",
    "      HTMLResult = HTMLResult + '<tr>'   \n",
    "      for column in row:\n",
    "        #print(\"COLUMN:\", column)\n",
    "        if column is not \"\":\n",
    "             HTMLResult = HTMLResult + '<td>' +  str(column) + '</td>'\n",
    "        else:\n",
    "             HTMLResult = HTMLResult + '<td>' + \"N/A\"+ '</td>'\n",
    "      HTMLResult = HTMLResult + '</tr>'\n",
    "   HTMLResult = HTMLResult + '</table>'\n",
    "   display(HTML(HTMLResult))"
   ]
  },
  {
   "cell_type": "code",
   "execution_count": 3,
   "metadata": {},
   "outputs": [],
   "source": [
    "def get_sparql_variables(results, sparql_wrapper=\"SPARQLWrapper2\"):\n",
    "#     return results.vars if (\"sparqlwrapper2\" == sparql_wrapper.lower()) else results['head']['vars']\n",
    "    return results.vars if (\"sparqlwrapper2\" == sparql_wrapper.lower()) else results.vars\n",
    "\n",
    "\n",
    "def get_sparql_bindings(results, sparql_wrapper=\"SPARQLWrapper2\"):\n",
    "    return results.bindings if (\"sparqlwrapper2\" == sparql_wrapper.lower()) else results['results']['bindings']\n",
    "\n",
    "\n",
    "def get_sparql_binding_variable_value(binding, variable, sparql_wrapper=\"SPARQLWrapper2\"):\n",
    "    return binding[variable] if (\"sparqlwrapper2\" == sparql_wrapper.lower()) else binding[variable]['value']\n",
    "\n",
    "def make_sparql_dict_list(bindings, variables, sparql_wrapper=\"SPARQLWrapper2\"):\n",
    "    def binding_value(binding, var): # helper function for returning values\n",
    "        return get_sparql_binding_variable_value(binding, var, sparql_wrapper) if (var in binding) else None\n",
    "\n",
    "    dict_list = []  # list to contain dictionaries\n",
    "    for binding in itertools.chain(bindings):\n",
    "        values = [binding_value(binding, var) for var in itertools.chain(variables)]\n",
    "        dict_list.append(dict(zip(variables, values)))\n",
    "\n",
    "    return dict_list\n",
    "\n",
    "\n",
    "def make_sparql_df(results, sparql_wrapper=\"SPARQLWrapper2\"):\n",
    "    variables = get_sparql_variables(results, sparql_wrapper)\n",
    "    # print(variables)\n",
    "\n",
    "    cleaned_variables=[str(var.replace('\\\\n','')) for var in variables] \n",
    "\n",
    "    #print(cleaned_variables)\n",
    "    bindings = get_sparql_bindings(results, sparql_wrapper)\n",
    "    # print(bindings)\n",
    "    \n",
    "    # create a list of dictionaries to use as data for dataframe\n",
    "    data_list = make_sparql_dict_list(bindings, cleaned_variables, sparql_wrapper)\n",
    "    \n",
    "    # print(data_list)\n",
    "\n",
    "    df = pds.DataFrame(data_list) # create dataframe from data list\n",
    "    df[\"sample_mean\"] = df[\"sample_mean\"].astype(\"float\")\n",
    "\n",
    "   # print(df[\"sample_mean\"])\n",
    "    return df[cleaned_variables] # return dataframe with columns reordered"
   ]
  },
  {
   "cell_type": "markdown",
   "metadata": {},
   "source": [
    "*credits to Bob du Charme for the following function [http://www.snee.com/bobdc.blog/2016/07/sparql-in-a-jupyter-aka-ipytho.html]"
   ]
  },
  {
   "cell_type": "code",
   "execution_count": 4,
   "metadata": {},
   "outputs": [],
   "source": [
    "g = Graph()"
   ]
  },
  {
   "cell_type": "markdown",
   "metadata": {},
   "source": [
    "Let's read the RDF graph generated using the rose-dtpkg2rdf.py python script and saved to disk as a turtle file"
   ]
  },
  {
   "cell_type": "code",
   "execution_count": 5,
   "metadata": {},
   "outputs": [
    {
     "ename": "FileNotFoundError",
     "evalue": "[Errno 2] No such file or directory: '/Users/philippe/Documents/git/FAIRplus-org/the-fair-cookbook/docs/content/recipes/applied-examples/data/processed/rose-data-as-rdf/rose-aroma-ng-06-2018-full.ttl'",
     "output_type": "error",
     "traceback": [
      "\u001b[0;31m---------------------------------------------------------------------------\u001b[0m",
      "\u001b[0;31mFileNotFoundError\u001b[0m                         Traceback (most recent call last)",
      "\u001b[0;32m<ipython-input-5-25e498617ce4>\u001b[0m in \u001b[0;36m<module>\u001b[0;34m\u001b[0m\n\u001b[1;32m      1\u001b[0m \u001b[0;31m#g.parse(\"./../data/processed/rose-data-as-rdf/rose-aroma-ng-06-2018-subset.ttl\", format=\"n3\")\u001b[0m\u001b[0;34m\u001b[0m\u001b[0;34m\u001b[0m\u001b[0;34m\u001b[0m\u001b[0m\n\u001b[0;32m----> 2\u001b[0;31m \u001b[0mg\u001b[0m\u001b[0;34m.\u001b[0m\u001b[0mparse\u001b[0m\u001b[0;34m(\u001b[0m\u001b[0;34m\"./../data/processed/rose-data-as-rdf/rose-aroma-ng-06-2018-full.ttl\"\u001b[0m\u001b[0;34m,\u001b[0m \u001b[0mformat\u001b[0m\u001b[0;34m=\u001b[0m\u001b[0;34m\"n3\"\u001b[0m\u001b[0;34m)\u001b[0m\u001b[0;34m\u001b[0m\u001b[0;34m\u001b[0m\u001b[0m\n\u001b[0m\u001b[1;32m      3\u001b[0m \u001b[0;31m# g.parse(\"./../data/processed/denovo/rdf/rose-aroma-ng-06-2018-full.ttl\", format=\"n3\")\u001b[0m\u001b[0;34m\u001b[0m\u001b[0;34m\u001b[0m\u001b[0;34m\u001b[0m\u001b[0m\n",
      "\u001b[0;32m~/.pyenv/versions/venv372/lib/python3.7/site-packages/rdflib/graph.py\u001b[0m in \u001b[0;36mparse\u001b[0;34m(self, source, publicID, format, location, file, data, **args)\u001b[0m\n\u001b[1;32m   1032\u001b[0m         source = create_input_source(source=source, publicID=publicID,\n\u001b[1;32m   1033\u001b[0m                                      \u001b[0mlocation\u001b[0m\u001b[0;34m=\u001b[0m\u001b[0mlocation\u001b[0m\u001b[0;34m,\u001b[0m \u001b[0mfile\u001b[0m\u001b[0;34m=\u001b[0m\u001b[0mfile\u001b[0m\u001b[0;34m,\u001b[0m\u001b[0;34m\u001b[0m\u001b[0;34m\u001b[0m\u001b[0m\n\u001b[0;32m-> 1034\u001b[0;31m                                      data=data, format=format)\n\u001b[0m\u001b[1;32m   1035\u001b[0m         \u001b[0;32mif\u001b[0m \u001b[0mformat\u001b[0m \u001b[0;32mis\u001b[0m \u001b[0;32mNone\u001b[0m\u001b[0;34m:\u001b[0m\u001b[0;34m\u001b[0m\u001b[0;34m\u001b[0m\u001b[0m\n\u001b[1;32m   1036\u001b[0m             \u001b[0mformat\u001b[0m \u001b[0;34m=\u001b[0m \u001b[0msource\u001b[0m\u001b[0;34m.\u001b[0m\u001b[0mcontent_type\u001b[0m\u001b[0;34m\u001b[0m\u001b[0;34m\u001b[0m\u001b[0m\n",
      "\u001b[0;32m~/.pyenv/versions/venv372/lib/python3.7/site-packages/rdflib/parser.py\u001b[0m in \u001b[0;36mcreate_input_source\u001b[0;34m(source, publicID, location, file, data, format)\u001b[0m\n\u001b[1;32m    182\u001b[0m         \u001b[0;32mif\u001b[0m \u001b[0mabsolute_location\u001b[0m\u001b[0;34m.\u001b[0m\u001b[0mstartswith\u001b[0m\u001b[0;34m(\u001b[0m\u001b[0;34m\"file:///\"\u001b[0m\u001b[0;34m)\u001b[0m\u001b[0;34m:\u001b[0m\u001b[0;34m\u001b[0m\u001b[0;34m\u001b[0m\u001b[0m\n\u001b[1;32m    183\u001b[0m             \u001b[0mfilename\u001b[0m \u001b[0;34m=\u001b[0m \u001b[0murl2pathname\u001b[0m\u001b[0;34m(\u001b[0m\u001b[0mabsolute_location\u001b[0m\u001b[0;34m.\u001b[0m\u001b[0mreplace\u001b[0m\u001b[0;34m(\u001b[0m\u001b[0;34m\"file:///\"\u001b[0m\u001b[0;34m,\u001b[0m \u001b[0;34m\"/\"\u001b[0m\u001b[0;34m)\u001b[0m\u001b[0;34m)\u001b[0m\u001b[0;34m\u001b[0m\u001b[0;34m\u001b[0m\u001b[0m\n\u001b[0;32m--> 184\u001b[0;31m             \u001b[0mfile\u001b[0m \u001b[0;34m=\u001b[0m \u001b[0mopen\u001b[0m\u001b[0;34m(\u001b[0m\u001b[0mfilename\u001b[0m\u001b[0;34m,\u001b[0m \u001b[0;34m\"rb\"\u001b[0m\u001b[0;34m)\u001b[0m\u001b[0;34m\u001b[0m\u001b[0;34m\u001b[0m\u001b[0m\n\u001b[0m\u001b[1;32m    185\u001b[0m         \u001b[0;32melse\u001b[0m\u001b[0;34m:\u001b[0m\u001b[0;34m\u001b[0m\u001b[0;34m\u001b[0m\u001b[0m\n\u001b[1;32m    186\u001b[0m             \u001b[0minput_source\u001b[0m \u001b[0;34m=\u001b[0m \u001b[0mURLInputSource\u001b[0m\u001b[0;34m(\u001b[0m\u001b[0mabsolute_location\u001b[0m\u001b[0;34m,\u001b[0m \u001b[0mformat\u001b[0m\u001b[0;34m)\u001b[0m\u001b[0;34m\u001b[0m\u001b[0;34m\u001b[0m\u001b[0m\n",
      "\u001b[0;31mFileNotFoundError\u001b[0m: [Errno 2] No such file or directory: '/Users/philippe/Documents/git/FAIRplus-org/the-fair-cookbook/docs/content/recipes/applied-examples/data/processed/rose-data-as-rdf/rose-aroma-ng-06-2018-full.ttl'"
     ]
    }
   ],
   "source": [
    "#g.parse(\"./../data/processed/rose-data-as-rdf/rose-aroma-ng-06-2018-subset.ttl\", format=\"n3\")\n",
    "g.parse(\"./../data/processed/rose-data-as-rdf/rose-aroma-ng-06-2018-full.ttl\", format=\"n3\")\n",
    "# g.parse(\"./../data/processed/denovo/rdf/rose-aroma-ng-06-2018-full.ttl\", format=\"n3\")"
   ]
  },
  {
   "cell_type": "markdown",
   "metadata": {},
   "source": [
    "Now let's ask for the independent variables and their levels using the following SPARQL query"
   ]
  },
  {
   "cell_type": "code",
   "execution_count": 6,
   "metadata": {},
   "outputs": [],
   "source": [
    "get_idv_and_levels = g.query(\"\"\"\n",
    "PREFIX stato: <http://purl.obolibrary.org/obo/STATO_>\n",
    "prefix rdfs: <http://www.w3.org/2000/01/rdf-schema#> \n",
    "PREFIX ncbitax: <http://purl.obolibrary.org/obo/NCBITaxon_>\n",
    "prefix has_part: <http://purl.obolibrary.org/obo/BFO_0000051>\n",
    "            SELECT DISTINCT\n",
    "             ?Predictor\n",
    "             ?PredictorLevel\n",
    "             WHERE { \n",
    "                ?var a stato:0000087 ;\n",
    "                    rdfs:label ?Predictor ;\n",
    "                    has_part: ?value .\n",
    "                ?value rdfs:label ?PredictorLevel .    \n",
    "                 }               \n",
    "\"\"\")\n",
    "\n"
   ]
  },
  {
   "cell_type": "markdown",
   "metadata": {},
   "source": [
    "We can display the results of that query using the function declared earlier on."
   ]
  },
  {
   "cell_type": "code",
   "execution_count": 7,
   "metadata": {},
   "outputs": [
    {
     "data": {
      "text/html": [
       "<table><tr style=\"color:white;background-color:#43BFC7;font-weight:bold\"><td>Predictor</td><td>PredictorLevel</td></tr></table>"
      ],
      "text/plain": [
       "<IPython.core.display.HTML object>"
      ]
     },
     "metadata": {},
     "output_type": "display_data"
    }
   ],
   "source": [
    "queryResultToHTMLTable(get_idv_and_levels)"
   ]
  },
  {
   "cell_type": "markdown",
   "metadata": {},
   "source": [
    "Let's now ask for the number of biological and technical replicates used to compute the mean concentration of the chemical compounds detected and forming the signature of the rose fragrance."
   ]
  },
  {
   "cell_type": "code",
   "execution_count": 8,
   "metadata": {},
   "outputs": [],
   "source": [
    "get_replication_info = g.query(\"\"\"\n",
    "prefix rdfs: <http://www.w3.org/2000/01/rdf-schema#> \n",
    "prefix chmo:   <http://purl.obolibrary.org/obo/CHMO_> \n",
    "prefix msio:   <http://purl.obolibrary.org/obo/MSIO_> \n",
    "prefix stato: <http://purl.obolibrary.org/obo/STATO_> \n",
    "prefix obi: <http://purl.obolibrary.org/obo/OBI_> \n",
    "prefix ro: <http://purl.obolibrary.org/obo/RO_>\n",
    "prefix po: <http://purl.obolibrary.org/obo/PO_>\n",
    "prefix has_member: <http://purl.obolibrary.org/obo/RO_0002351>\n",
    "prefix has_value: <http://purl.obolibrary.org/obo/STATO_0000129> \n",
    "prefix computed_from: <http://purl.obolibrary.org/obo/STATO_0000557>\n",
    "prefix has_specified_input: <http://purl.obolibrary.org/obo/OBI_0000293>\n",
    "prefix is_specified_output_of: <http://purl.obolibrary.org/obo/OBI_0000295>\n",
    "prefix is_about: <http://purl.obolibrary.org/obo/IAO_0000136>\n",
    "\n",
    "SELECT        \n",
    "      ?TreatmentGroup \n",
    "      ?ChemicalCompound\n",
    "      ?MeanConcentration\n",
    "      (count(distinct ?member) as ?NbTechnicalReplicate) \n",
    "      (count(distinct ?input) as ?NbBiologicalReplicate)      \n",
    "      WHERE {\n",
    "            ?population a stato:0000193 ;\n",
    "                rdfs:label ?TreatmentGroup ;\n",
    "                has_member: ?member .      \n",
    "            ?member has_specified_input: ?input .              \n",
    "            ?mean a stato:0000402 ;\n",
    "                computed_from: ?population ;\n",
    "                has_value: ?MeanConcentration ;\n",
    "                is_about: ?ChemicalCompound .\n",
    "            ?concentration a stato:0000072;\n",
    "                is_about: ?ChemicalCompound .\n",
    "}\n",
    "      GROUP BY ?population \n",
    "\"\"\")\n"
   ]
  },
  {
   "cell_type": "markdown",
   "metadata": {},
   "source": [
    "Once more, we invoked the pretty printing function:"
   ]
  },
  {
   "cell_type": "code",
   "execution_count": 9,
   "metadata": {},
   "outputs": [
    {
     "data": {
      "text/html": [
       "<table><tr style=\"color:white;background-color:#43BFC7;font-weight:bold\"><td>TreatmentGroup</td><td>ChemicalCompound</td><td>MeanConcentration</td><td>NbTechnicalReplicate</td><td>NbBiologicalReplicate</td></tr></table>"
      ],
      "text/plain": [
       "<IPython.core.display.HTML object>"
      ]
     },
     "metadata": {},
     "output_type": "display_data"
    }
   ],
   "source": [
    "queryResultToHTMLTable(get_replication_info)"
   ]
  },
  {
   "cell_type": "code",
   "execution_count": 10,
   "metadata": {},
   "outputs": [],
   "source": [
    "get_all_data = g.query(\"\"\"\n",
    "prefix rdfs: <http://www.w3.org/2000/01/rdf-schema#> \n",
    "prefix chmo:   <http://purl.obolibrary.org/obo/CHMO_> \n",
    "prefix msio:   <http://purl.obolibrary.org/obo/MSIO_> \n",
    "prefix stato: <http://purl.obolibrary.org/obo/STATO_> \n",
    "prefix obi: <http://purl.obolibrary.org/obo/OBI_> \n",
    "prefix ro: <http://purl.obolibrary.org/obo/RO_>\n",
    "prefix po: <http://purl.obolibrary.org/obo/PO_>\n",
    "prefix chebi: <http://purl.obolibrary.org/obo/CHEBI_>\n",
    "prefix has_value: <http://purl.obolibrary.org/obo/STATO_0000129>\n",
    "prefix computed_from: <http://purl.obolibrary.org/obo/STATO_0000557>\n",
    "prefix is_about: <http://purl.obolibrary.org/obo/IAO_0000136>\n",
    "prefix is_denoted_by: <http://purl.obolibrary.org/obo/STATO_0000205>\n",
    "prefix derives_from: <http://purl.obolibrary.org/obo/RO_0001000> \n",
    "prefix located_in: <http://purl.obolibrary.org/obo/RO_0001025>\n",
    "prefix denotes: <http://purl.obolibrary.org/obo/IAO_0000219>\n",
    "prefix measured_in: <http://purl.obolibrary.org/obo/RO_0002351> \n",
    "\n",
    "SELECT REDUCED  ?chemical_name ?chebi_identifier ?inchi ?sample_mean ?sem ?treatment ?genotype ?organism_part\n",
    "WHERE {\n",
    "        ?pop_mean a stato:0000402 ;\n",
    "         is_about: ?chebi_identifier ;\n",
    "         computed_from: ?population ;\n",
    "         has_value: ?sample_mean .\n",
    "     ?chem a ?chebi_identifier ;\n",
    "         rdfs:label ?chemical_name ;\n",
    "         is_denoted_by: ?inchi .\n",
    "     ?semv a stato:0000037 ; \n",
    "         denotes: ?pop_mean ;\n",
    "         has_value: ?sem.\n",
    "     ?population a stato:0000193 ;\n",
    "         rdfs:label ?treatment .\n",
    "     ?sub_conc a stato:0000072 ;\n",
    "         derives_from: ?genotype ;\n",
    "         located_in: ?organism_part;\n",
    "         measured_in: ?population .         \n",
    "}        \n",
    "\"\"\")"
   ]
  },
  {
   "cell_type": "code",
   "execution_count": 11,
   "metadata": {},
   "outputs": [
    {
     "data": {
      "text/html": [
       "<table><tr style=\"color:white;background-color:#43BFC7;font-weight:bold\"><td>chemical_name</td><td>chebi_identifier</td><td>inchi</td><td>sample_mean</td><td>sem</td><td>treatment</td><td>genotype</td><td>organism_part</td></tr></table>"
      ],
      "text/plain": [
       "<IPython.core.display.HTML object>"
      ]
     },
     "metadata": {},
     "output_type": "display_data"
    }
   ],
   "source": [
    "queryResultToHTMLTable(get_all_data)"
   ]
  },
  {
   "cell_type": "code",
   "execution_count": 12,
   "metadata": {},
   "outputs": [
    {
     "ename": "KeyError",
     "evalue": "'sample_mean'",
     "output_type": "error",
     "traceback": [
      "\u001b[0;31m---------------------------------------------------------------------------\u001b[0m",
      "\u001b[0;31mKeyError\u001b[0m                                  Traceback (most recent call last)",
      "\u001b[0;32m~/.pyenv/versions/venv372/lib/python3.7/site-packages/pandas/core/indexes/base.py\u001b[0m in \u001b[0;36mget_loc\u001b[0;34m(self, key, method, tolerance)\u001b[0m\n\u001b[1;32m   2896\u001b[0m             \u001b[0;32mtry\u001b[0m\u001b[0;34m:\u001b[0m\u001b[0;34m\u001b[0m\u001b[0;34m\u001b[0m\u001b[0m\n\u001b[0;32m-> 2897\u001b[0;31m                 \u001b[0;32mreturn\u001b[0m \u001b[0mself\u001b[0m\u001b[0;34m.\u001b[0m\u001b[0m_engine\u001b[0m\u001b[0;34m.\u001b[0m\u001b[0mget_loc\u001b[0m\u001b[0;34m(\u001b[0m\u001b[0mkey\u001b[0m\u001b[0;34m)\u001b[0m\u001b[0;34m\u001b[0m\u001b[0;34m\u001b[0m\u001b[0m\n\u001b[0m\u001b[1;32m   2898\u001b[0m             \u001b[0;32mexcept\u001b[0m \u001b[0mKeyError\u001b[0m\u001b[0;34m:\u001b[0m\u001b[0;34m\u001b[0m\u001b[0;34m\u001b[0m\u001b[0m\n",
      "\u001b[0;32mpandas/_libs/index.pyx\u001b[0m in \u001b[0;36mpandas._libs.index.IndexEngine.get_loc\u001b[0;34m()\u001b[0m\n",
      "\u001b[0;32mpandas/_libs/index.pyx\u001b[0m in \u001b[0;36mpandas._libs.index.IndexEngine.get_loc\u001b[0;34m()\u001b[0m\n",
      "\u001b[0;32mpandas/_libs/hashtable_class_helper.pxi\u001b[0m in \u001b[0;36mpandas._libs.hashtable.PyObjectHashTable.get_item\u001b[0;34m()\u001b[0m\n",
      "\u001b[0;32mpandas/_libs/hashtable_class_helper.pxi\u001b[0m in \u001b[0;36mpandas._libs.hashtable.PyObjectHashTable.get_item\u001b[0;34m()\u001b[0m\n",
      "\u001b[0;31mKeyError\u001b[0m: 'sample_mean'",
      "\nDuring handling of the above exception, another exception occurred:\n",
      "\u001b[0;31mKeyError\u001b[0m                                  Traceback (most recent call last)",
      "\u001b[0;32m<ipython-input-12-74226eea9bba>\u001b[0m in \u001b[0;36m<module>\u001b[0;34m\u001b[0m\n\u001b[0;32m----> 1\u001b[0;31m \u001b[0mdata\u001b[0m\u001b[0;34m=\u001b[0m\u001b[0mmake_sparql_df\u001b[0m\u001b[0;34m(\u001b[0m\u001b[0mget_all_data\u001b[0m\u001b[0;34m)\u001b[0m\u001b[0;34m\u001b[0m\u001b[0;34m\u001b[0m\u001b[0m\n\u001b[0m",
      "\u001b[0;32m<ipython-input-3-e97086bf9422>\u001b[0m in \u001b[0;36mmake_sparql_df\u001b[0;34m(results, sparql_wrapper)\u001b[0m\n\u001b[1;32m     39\u001b[0m \u001b[0;34m\u001b[0m\u001b[0m\n\u001b[1;32m     40\u001b[0m     \u001b[0mdf\u001b[0m \u001b[0;34m=\u001b[0m \u001b[0mpds\u001b[0m\u001b[0;34m.\u001b[0m\u001b[0mDataFrame\u001b[0m\u001b[0;34m(\u001b[0m\u001b[0mdata_list\u001b[0m\u001b[0;34m)\u001b[0m \u001b[0;31m# create dataframe from data list\u001b[0m\u001b[0;34m\u001b[0m\u001b[0;34m\u001b[0m\u001b[0m\n\u001b[0;32m---> 41\u001b[0;31m     \u001b[0mdf\u001b[0m\u001b[0;34m[\u001b[0m\u001b[0;34m\"sample_mean\"\u001b[0m\u001b[0;34m]\u001b[0m \u001b[0;34m=\u001b[0m \u001b[0mdf\u001b[0m\u001b[0;34m[\u001b[0m\u001b[0;34m\"sample_mean\"\u001b[0m\u001b[0;34m]\u001b[0m\u001b[0;34m.\u001b[0m\u001b[0mastype\u001b[0m\u001b[0;34m(\u001b[0m\u001b[0;34m\"float\"\u001b[0m\u001b[0;34m)\u001b[0m\u001b[0;34m\u001b[0m\u001b[0;34m\u001b[0m\u001b[0m\n\u001b[0m\u001b[1;32m     42\u001b[0m \u001b[0;34m\u001b[0m\u001b[0m\n\u001b[1;32m     43\u001b[0m    \u001b[0;31m# print(df[\"sample_mean\"])\u001b[0m\u001b[0;34m\u001b[0m\u001b[0;34m\u001b[0m\u001b[0;34m\u001b[0m\u001b[0m\n",
      "\u001b[0;32m~/.pyenv/versions/venv372/lib/python3.7/site-packages/pandas/core/frame.py\u001b[0m in \u001b[0;36m__getitem__\u001b[0;34m(self, key)\u001b[0m\n\u001b[1;32m   2993\u001b[0m             \u001b[0;32mif\u001b[0m \u001b[0mself\u001b[0m\u001b[0;34m.\u001b[0m\u001b[0mcolumns\u001b[0m\u001b[0;34m.\u001b[0m\u001b[0mnlevels\u001b[0m \u001b[0;34m>\u001b[0m \u001b[0;36m1\u001b[0m\u001b[0;34m:\u001b[0m\u001b[0;34m\u001b[0m\u001b[0;34m\u001b[0m\u001b[0m\n\u001b[1;32m   2994\u001b[0m                 \u001b[0;32mreturn\u001b[0m \u001b[0mself\u001b[0m\u001b[0;34m.\u001b[0m\u001b[0m_getitem_multilevel\u001b[0m\u001b[0;34m(\u001b[0m\u001b[0mkey\u001b[0m\u001b[0;34m)\u001b[0m\u001b[0;34m\u001b[0m\u001b[0;34m\u001b[0m\u001b[0m\n\u001b[0;32m-> 2995\u001b[0;31m             \u001b[0mindexer\u001b[0m \u001b[0;34m=\u001b[0m \u001b[0mself\u001b[0m\u001b[0;34m.\u001b[0m\u001b[0mcolumns\u001b[0m\u001b[0;34m.\u001b[0m\u001b[0mget_loc\u001b[0m\u001b[0;34m(\u001b[0m\u001b[0mkey\u001b[0m\u001b[0;34m)\u001b[0m\u001b[0;34m\u001b[0m\u001b[0;34m\u001b[0m\u001b[0m\n\u001b[0m\u001b[1;32m   2996\u001b[0m             \u001b[0;32mif\u001b[0m \u001b[0mis_integer\u001b[0m\u001b[0;34m(\u001b[0m\u001b[0mindexer\u001b[0m\u001b[0;34m)\u001b[0m\u001b[0;34m:\u001b[0m\u001b[0;34m\u001b[0m\u001b[0;34m\u001b[0m\u001b[0m\n\u001b[1;32m   2997\u001b[0m                 \u001b[0mindexer\u001b[0m \u001b[0;34m=\u001b[0m \u001b[0;34m[\u001b[0m\u001b[0mindexer\u001b[0m\u001b[0;34m]\u001b[0m\u001b[0;34m\u001b[0m\u001b[0;34m\u001b[0m\u001b[0m\n",
      "\u001b[0;32m~/.pyenv/versions/venv372/lib/python3.7/site-packages/pandas/core/indexes/base.py\u001b[0m in \u001b[0;36mget_loc\u001b[0;34m(self, key, method, tolerance)\u001b[0m\n\u001b[1;32m   2897\u001b[0m                 \u001b[0;32mreturn\u001b[0m \u001b[0mself\u001b[0m\u001b[0;34m.\u001b[0m\u001b[0m_engine\u001b[0m\u001b[0;34m.\u001b[0m\u001b[0mget_loc\u001b[0m\u001b[0;34m(\u001b[0m\u001b[0mkey\u001b[0m\u001b[0;34m)\u001b[0m\u001b[0;34m\u001b[0m\u001b[0;34m\u001b[0m\u001b[0m\n\u001b[1;32m   2898\u001b[0m             \u001b[0;32mexcept\u001b[0m \u001b[0mKeyError\u001b[0m\u001b[0;34m:\u001b[0m\u001b[0;34m\u001b[0m\u001b[0;34m\u001b[0m\u001b[0m\n\u001b[0;32m-> 2899\u001b[0;31m                 \u001b[0;32mreturn\u001b[0m \u001b[0mself\u001b[0m\u001b[0;34m.\u001b[0m\u001b[0m_engine\u001b[0m\u001b[0;34m.\u001b[0m\u001b[0mget_loc\u001b[0m\u001b[0;34m(\u001b[0m\u001b[0mself\u001b[0m\u001b[0;34m.\u001b[0m\u001b[0m_maybe_cast_indexer\u001b[0m\u001b[0;34m(\u001b[0m\u001b[0mkey\u001b[0m\u001b[0;34m)\u001b[0m\u001b[0;34m)\u001b[0m\u001b[0;34m\u001b[0m\u001b[0;34m\u001b[0m\u001b[0m\n\u001b[0m\u001b[1;32m   2900\u001b[0m         \u001b[0mindexer\u001b[0m \u001b[0;34m=\u001b[0m \u001b[0mself\u001b[0m\u001b[0;34m.\u001b[0m\u001b[0mget_indexer\u001b[0m\u001b[0;34m(\u001b[0m\u001b[0;34m[\u001b[0m\u001b[0mkey\u001b[0m\u001b[0;34m]\u001b[0m\u001b[0;34m,\u001b[0m \u001b[0mmethod\u001b[0m\u001b[0;34m=\u001b[0m\u001b[0mmethod\u001b[0m\u001b[0;34m,\u001b[0m \u001b[0mtolerance\u001b[0m\u001b[0;34m=\u001b[0m\u001b[0mtolerance\u001b[0m\u001b[0;34m)\u001b[0m\u001b[0;34m\u001b[0m\u001b[0;34m\u001b[0m\u001b[0m\n\u001b[1;32m   2901\u001b[0m         \u001b[0;32mif\u001b[0m \u001b[0mindexer\u001b[0m\u001b[0;34m.\u001b[0m\u001b[0mndim\u001b[0m \u001b[0;34m>\u001b[0m \u001b[0;36m1\u001b[0m \u001b[0;32mor\u001b[0m \u001b[0mindexer\u001b[0m\u001b[0;34m.\u001b[0m\u001b[0msize\u001b[0m \u001b[0;34m>\u001b[0m \u001b[0;36m1\u001b[0m\u001b[0;34m:\u001b[0m\u001b[0;34m\u001b[0m\u001b[0;34m\u001b[0m\u001b[0m\n",
      "\u001b[0;32mpandas/_libs/index.pyx\u001b[0m in \u001b[0;36mpandas._libs.index.IndexEngine.get_loc\u001b[0;34m()\u001b[0m\n",
      "\u001b[0;32mpandas/_libs/index.pyx\u001b[0m in \u001b[0;36mpandas._libs.index.IndexEngine.get_loc\u001b[0;34m()\u001b[0m\n",
      "\u001b[0;32mpandas/_libs/hashtable_class_helper.pxi\u001b[0m in \u001b[0;36mpandas._libs.hashtable.PyObjectHashTable.get_item\u001b[0;34m()\u001b[0m\n",
      "\u001b[0;32mpandas/_libs/hashtable_class_helper.pxi\u001b[0m in \u001b[0;36mpandas._libs.hashtable.PyObjectHashTable.get_item\u001b[0;34m()\u001b[0m\n",
      "\u001b[0;31mKeyError\u001b[0m: 'sample_mean'"
     ]
    }
   ],
   "source": [
    "data=make_sparql_df(get_all_data)"
   ]
  },
  {
   "cell_type": "code",
   "execution_count": 13,
   "metadata": {},
   "outputs": [
    {
     "ename": "NameError",
     "evalue": "name 'data' is not defined",
     "output_type": "error",
     "traceback": [
      "\u001b[0;31m---------------------------------------------------------------------------\u001b[0m",
      "\u001b[0;31mNameError\u001b[0m                                 Traceback (most recent call last)",
      "\u001b[0;32m<ipython-input-13-50ce0a623536>\u001b[0m in \u001b[0;36m<module>\u001b[0;34m\u001b[0m\n\u001b[1;32m     12\u001b[0m  \u001b[0;34m+\u001b[0m \u001b[0mtheme\u001b[0m\u001b[0;34m(\u001b[0m\u001b[0maxis_text_x\u001b[0m\u001b[0;34m=\u001b[0m\u001b[0melement_text\u001b[0m\u001b[0;34m(\u001b[0m\u001b[0mrotation\u001b[0m\u001b[0;34m=\u001b[0m\u001b[0;36m90\u001b[0m\u001b[0;34m,\u001b[0m \u001b[0mhjust\u001b[0m\u001b[0;34m=\u001b[0m\u001b[0;36m1\u001b[0m\u001b[0;34m,\u001b[0m \u001b[0mfontsize\u001b[0m\u001b[0;34m=\u001b[0m\u001b[0;36m6\u001b[0m\u001b[0;34m,\u001b[0m \u001b[0mcolor\u001b[0m\u001b[0;34m=\u001b[0m\u001b[0mblue\u001b[0m\u001b[0;34m)\u001b[0m\u001b[0;34m)\u001b[0m\u001b[0;34m\u001b[0m\u001b[0;34m\u001b[0m\u001b[0m\n\u001b[1;32m     13\u001b[0m  \u001b[0;34m+\u001b[0m \u001b[0mtheme\u001b[0m\u001b[0;34m(\u001b[0m\u001b[0maxis_text_y\u001b[0m\u001b[0;34m=\u001b[0m\u001b[0melement_text\u001b[0m\u001b[0;34m(\u001b[0m\u001b[0mrotation\u001b[0m\u001b[0;34m=\u001b[0m\u001b[0;36m0\u001b[0m\u001b[0;34m,\u001b[0m \u001b[0mhjust\u001b[0m\u001b[0;34m=\u001b[0m\u001b[0;36m2\u001b[0m\u001b[0;34m,\u001b[0m \u001b[0mfontsize\u001b[0m\u001b[0;34m=\u001b[0m\u001b[0;36m6\u001b[0m\u001b[0;34m,\u001b[0m \u001b[0mcolor\u001b[0m\u001b[0;34m=\u001b[0m\u001b[0morange\u001b[0m\u001b[0;34m)\u001b[0m\u001b[0;34m)\u001b[0m\u001b[0;34m\u001b[0m\u001b[0;34m\u001b[0m\u001b[0m\n\u001b[0;32m---> 14\u001b[0;31m          \u001b[0;34m+\u001b[0m \u001b[0mtheme\u001b[0m\u001b[0;34m(\u001b[0m\u001b[0mfigure_size\u001b[0m \u001b[0;34m=\u001b[0m \u001b[0;34m(\u001b[0m\u001b[0;36m8\u001b[0m\u001b[0;34m,\u001b[0m \u001b[0;36m16\u001b[0m\u001b[0;34m)\u001b[0m\u001b[0;34m)\u001b[0m\u001b[0;34m\u001b[0m\u001b[0;34m\u001b[0m\u001b[0m\n\u001b[0m\u001b[1;32m     15\u001b[0m )\n\u001b[1;32m     16\u001b[0m \u001b[0;34m\u001b[0m\u001b[0m\n",
      "\u001b[0;31mNameError\u001b[0m: name 'data' is not defined"
     ]
    }
   ],
   "source": [
    "# width = figure_size[0]\n",
    "# height = figure_size[0] * aspect_ratio\n",
    "gray = '#666666'\n",
    "orange = '#FF8000'\n",
    "blue = '#3333FF'\n",
    "\n",
    "p1 = (ggplot(data)\n",
    " + aes('chemical_name','sample_mean',fill='factor(treatment)')\n",
    " + geom_col()\n",
    "+ facet_wrap('~treatment', dir='v',ncol=1)\n",
    " + scale_y_continuous(expand = (0,0))\n",
    " + theme(axis_text_x=element_text(rotation=90, hjust=1, fontsize=6, color=blue))\n",
    " + theme(axis_text_y=element_text(rotation=0, hjust=2, fontsize=6, color=orange))\n",
    "         + theme(figure_size = (8, 16))\n",
    ")\n",
    "\n",
    "p1 + theme(panel_background=element_rect(fill=blue)\n",
    "       )\n",
    "\n",
    "p1"
   ]
  },
  {
   "cell_type": "code",
   "execution_count": null,
   "metadata": {},
   "outputs": [],
   "source": []
  }
 ],
 "metadata": {
  "kernelspec": {
   "display_name": "venv372",
   "language": "python",
   "name": "venv372"
  },
  "language_info": {
   "codemirror_mode": {
    "name": "ipython",
    "version": 3
   },
   "file_extension": ".py",
   "mimetype": "text/x-python",
   "name": "python",
   "nbconvert_exporter": "python",
   "pygments_lexer": "ipython3",
   "version": "3.7.2"
  }
 },
 "nbformat": 4,
 "nbformat_minor": 2
}
