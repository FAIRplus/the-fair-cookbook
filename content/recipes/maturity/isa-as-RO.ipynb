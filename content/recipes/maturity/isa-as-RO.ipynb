{
 "cells": [
  {
   "cell_type": "markdown",
   "id": "bdf247b3",
   "metadata": {},
   "source": [
    "# Packaging ISA as a Research Object (RO) - Dataset Maturity Level 4\n",
    "\n",
    "<br/>\n",
    "<br/>\n",
    "\n",
    "````{panels_fairplus}\n",
    ":identifier_text: FCB066\n",
    ":identifier_link: 'https://w3id.org/faircookbook/FCB066'\n",
    ":difficulty_level: 2\n",
    ":recipe_type: hands_on\n",
    ":reading_time_minutes: 15\n",
    ":intended_audience: principal_investigator, data_manager, data_scientist\n",
    ":maturity_level: 4\n",
    ":maturity_indicator: 4\n",
    ":has_executable_code: yeah\n",
    ":recipe_name: Dissemination - Packaging ISA as a Research Object (RO)\n",
    "````\n",
    "\n",
    "\n",
    "\n",
    "## Abstract:\n",
    "\n",
    "The goal of this tutorial is to show how to package a dataset,  an [ISA JSON-LD]() document with the associated raw data files and\n",
    "a computational workflow available as a [CWL](https://commonwl.org) file in this example, as a minimal\n",
    "[Research Object crate](https://www.researchobject.org/ro-crate/).\n",
    "\n",
    "To do so, we will be using:\n",
    " * the [python ISA-API](https://github.com/ISA-tools/isa-api)\n",
    " * the [python ro-crate.py](https://github.com/ResearchObject/ro-crate-py) library, which, with its alpha status only support\n",
    "a subset of the [Research Object Crate specifications](https://www.researchobject.org/ro-crate/).\n",
    "\n",
    "\n",
    "Let's get started by getting all necessary modules:"
   ]
  },
  {
   "cell_type": "code",
   "execution_count": null,
   "id": "1866022b",
   "metadata": {},
   "outputs": [],
   "source": [
    "import os\n",
    "import json\n",
    "import datetime\n",
    "import isatools\n",
    "import uuid\n",
    "import hashlib\n",
    "import datetime\n",
    "from json import load\n",
    "from rocrate.rocrate import ROCrate\n",
    "from rocrate.model.person import Person\n",
    "from rocrate.model.dataset import Dataset\n",
    "from rocrate.model.softwareapplication import SoftwareApplication\n",
    "from rocrate.model.computationalworkflow import ComputationalWorkflow\n",
    "from rocrate.model.computerlanguage import ComputerLanguage\n",
    "from rocrate import rocrate_api\n",
    "\n"
   ]
  },
  {
   "cell_type": "markdown",
   "id": "0e9bf011",
   "metadata": {},
   "source": [
    "### Packaging the ISA various serializations (Tab, JSON, JSON-LD) as a Research Object Crate\n",
    "\n",
    "With the previous notebooks (recipes [FCBXY1]() and [FCBXY2]()), we generated several distinct ISA documents:\n",
    "- a basic ISA-Tab descriptor.\n",
    "- a more completely described ISA-JSON descriptor, meeting communication metadata annotation.\n",
    "- a semantically typed ISA JSON-LD descriptor, which is an RDF serialization of the same information.\n",
    "\n",
    "We will be using the RDF serialization, associated raw data files (dummy FASTQ files), a computational workflow\n",
    "available as a CWL file."
   ]
  },
  {
   "cell_type": "markdown",
   "id": "0a50acef",
   "metadata": {},
   "source": [
    "#### 1. Instantiating a `Research Object` and providing basic metadata"
   ]
  },
  {
   "cell_type": "code",
   "execution_count": null,
   "id": "dbcd356b",
   "metadata": {},
   "outputs": [],
   "source": [
    "ontology = \"obo\"\n",
    "a_crate_for_isa = ROCrate()\n",
    "# a_crate_for_isa.id = \"#research_object/\" + str(ro_id)\n",
    "a_crate_for_isa.name = \"ISA JSON-LD representation of BII-S-3\"\n",
    "a_crate_for_isa.description = \"ISA study serialized as JSON-LD using \" + ontology + \" ontology mapping\"\n",
    "a_crate_for_isa.keywords = [\"ISA\", \"JSON-LD\"]\n",
    "a_crate_for_isa.license = \"https://creativecommons.org/licenses/by/4.0/\"\n",
    "# a_crate_for_isa.creator = Person(a_crate_for_isa, \"https://www.orcid.org/0000-0001-9853-5668\", {\"name\": \"Philippe Rocca-Serra\"})\n",
    "test = a_crate_for_isa.add()"
   ]
  },
  {
   "cell_type": "markdown",
   "source": [
    "#### 2. Improving Reusability by setting a license for the RO-Crate."
   ],
   "metadata": {
    "collapsed": false
   }
  },
  {
   "cell_type": "code",
   "source": [
    "a_crate_for_isa.license = \"https://creativecommons.org/licenses/by/4.0/\""
   ],
   "metadata": {
    "collapsed": false,
    "pycharm": {
     "name": "#%%\n"
    }
   },
   "execution_count": null,
   "outputs": []
  },
  {
   "cell_type": "markdown",
   "source": [
    "#### 3. Allowing proper credit by associating authors and creators author to a globally unique identifier.\n",
    "\n",
    "In this case, we show how to use an ORCID to do so but using the `creator` property of the `RO-crate object`, and building\n",
    "a `Person` object"
   ],
   "metadata": {
    "collapsed": false
   }
  },
  {
   "cell_type": "code",
   "execution_count": null,
   "outputs": [],
   "source": [
    "a_crate_for_isa.creator = Person(a_crate_for_isa,\"https://www.orcid.org/0000-0001-9853-5668\")"
   ],
   "metadata": {
    "collapsed": false,
    "pycharm": {
     "name": "#%%\n"
    }
   }
  },
  {
   "cell_type": "markdown",
   "id": "e3a27a39",
   "metadata": {},
   "source": [
    "#### 4. Adding two ISA RDF serializations to the newly created `Research Object create`."
   ]
  },
  {
   "cell_type": "code",
   "execution_count": null,
   "id": "8d455a99",
   "metadata": {},
   "outputs": [],
   "source": [
    "# instance_path = os.path.join(\"./output/BII-S-3-synth/\", \"isa-new_ids.json\")\n",
    "#\n",
    "# with open(instance_path, 'r') as instance_file:\n",
    "#         instance = load(instance_file)\n",
    "#         instance_file.close()\n",
    "\n",
    "isa_json_ld_path = os.path.join(\"./output/BII-S-3-synth/\", \"isa-new_ids-BII-S-3-ld-\" + ontology + \"-v1.json\")\n",
    "isa_nquads_path = os.path.join(\"./output/BII-S-3-synth/\", \"isa.ttl\")\n",
    "\n",
    "files = [isa_json_ld_path, isa_nquads_path ]\n",
    "# with a python comprehension, we do it like this:\n",
    "[a_crate_for_isa.add_file(file) for file in files]"
   ]
  },
  {
   "cell_type": "markdown",
   "id": "2bb09cbb",
   "metadata": {},
   "source": [
    "#### 5. Now adding a dataset to the Research Object, which is meant to describe a bag of associated images."
   ]
  },
  {
   "cell_type": "code",
   "execution_count": null,
   "id": "561c452c",
   "metadata": {},
   "outputs": [],
   "source": [
    "ds = Dataset(a_crate_for_isa, \"raw_images\")\n",
    "ds.format_id=\"http://edamontology.org/format_3604\"\n",
    "ds.datePublished=datetime.datetime.now()\n",
    "ds.as_jsonld=isa_json_ld_path\n",
    "a_crate_for_isa.add(ds)"
   ]
  },
  {
   "cell_type": "markdown",
   "source": [
    "##### 6. Next, we create a `Computational Workflow` object and we add it to the `Research Object`\n",
    "\n",
    "```{admonition} tip\n",
    "Note that the Computation Workflow may also be represented as an ISA Protocol Object.\n",
    "```"
   ],
   "metadata": {
    "collapsed": false,
    "pycharm": {
     "name": "#%% md\n"
    }
   }
  },
  {
   "cell_type": "code",
   "execution_count": null,
   "outputs": [],
   "source": [
    "wf = ComputationalWorkflow(a_crate_for_isa, \"metagenomics-sequence-analysis.cwl\")\n",
    "wf.language=\"http://edamontology.org/format_3857\"\n",
    "wf.datePublished=datetime.datetime.now()\n",
    "\n",
    "with open(\"metagenomics-sequence-analysis.cwl\",\"rb\") as f:\n",
    "        bytes = f.read()\n",
    "        new_hash = hashlib.sha256(bytes).hexdigest()\n",
    "\n",
    "wf.hash=new_hash\n",
    "a_crate_for_isa.add(wf)"
   ],
   "metadata": {
    "collapsed": false,
    "pycharm": {
     "name": "#%%\n"
    }
   }
  },
  {
   "cell_type": "markdown",
   "id": "d43c6dd0",
   "metadata": {},
   "source": [
    "#### 7. Finally, we write the `Research Object` to file"
   ]
  },
  {
   "cell_type": "code",
   "execution_count": null,
   "id": "6262f675",
   "metadata": {},
   "outputs": [],
   "source": [
    "ro_outpath = \"./output/BII-S-3-synth/ISA_in_a_ROcrate\"\n",
    "a_crate_for_isa.write_crate(ro_outpath)\n",
    "\n",
    "with open(os.path.join(ro_outpath,\"ro-crate-metadata.json\"), 'r') as handle:\n",
    "        #     print(handle)\n",
    "        parsed = json.load(handle)\n",
    "\n",
    "print(json.dumps(parsed, indent=4, sort_keys=True))"
   ]
  },
  {
   "cell_type": "markdown",
   "id": "7841165b",
   "metadata": {
    "pycharm": {
     "name": "#%% md\n"
    }
   },
   "source": [
    "#### 8. Alternately, a zipped archive can be created as follows:"
   ]
  },
  {
   "cell_type": "code",
   "execution_count": null,
   "outputs": [],
   "source": [
    "a_crate_for_isa.write_zip(ro_outpath)"
   ],
   "metadata": {
    "collapsed": false,
    "pycharm": {
     "name": "#%%\n"
    }
   }
  },
  {
   "cell_type": "markdown",
   "source": [
    "et Voilà!\n"
   ],
   "metadata": {
    "collapsed": false
   }
  },
  {
   "cell_type": "markdown",
   "source": [
    "### Conclusion:\n",
    "\n",
    "With this content type, we have briefly introduced the notion of RO-Crate as a mechanism to package data and associated\n",
    "metadata using a python library providing initial capability by offering a minimal implementation of the specifications.\n",
    "The current iteration of the python library presents certain limitations. For instance, it does not provide the\n",
    "necessary functionality to allow recording of `Provenance` information. However, this can be easily accomplished by\n",
    "extending the code.\n",
    "The key message behind this recipe is simply to show that RO-crate can improve over simply zipping a bunch of files\n",
    "together by providing a little semantic over the different parts making up an archive.\n",
    "Also, it is important to bear in mind that the Research Object crate is nascent and more work is needed to define\n",
    "use best practices and implementation profiles.\n",
    "\n",
    "> What to read next ?\n",
    "- What is Provenance information?\n",
    "- Upload to Zenodo and get a DOI\n",
    "- How to make workflow FAIR ?\n",
    "\n"
   ],
   "metadata": {
    "collapsed": false
   }
  },
  {
   "cell_type": "markdown",
   "source": [
    "## Authors\n",
    "````{authors_fairplus}\n",
    "Philippe: Writing - Original Draft\n",
    "Dominique: Writing - Original Draft\n",
    "````\n",
    "\n",
    "## License\n",
    "````{license_fairplus}\n",
    "CC-BY-4.0\n",
    "````\n",
    "\n",
    "\n"
   ],
   "metadata": {
    "collapsed": false
   }
  }
 ],
 "metadata": {
  "kernelspec": {
   "display_name": "Python 3 (ipykernel)",
   "language": "python",
   "name": "python3"
  },
  "language_info": {
   "codemirror_mode": {
    "name": "ipython",
    "version": 3
   },
   "file_extension": ".py",
   "mimetype": "text/x-python",
   "name": "python",
   "nbconvert_exporter": "python",
   "pygments_lexer": "ipython3",
   "version": "3.9.0"
  }
 },
 "nbformat": 4,
 "nbformat_minor": 5
}