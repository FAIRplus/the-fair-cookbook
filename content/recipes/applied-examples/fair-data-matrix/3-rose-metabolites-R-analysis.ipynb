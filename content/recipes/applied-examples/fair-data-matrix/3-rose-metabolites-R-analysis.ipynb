{
 "cells": [
  {
   "cell_type": "markdown",
   "metadata": {},
   "source": [
    "---\n",
    "# Integrating data\n",
    "````{panels}\n",
    ":container: container-lg pb-3<br>\n",
    ":column: col-lg-3 col-md-4 col-sm-6 col-xs-12 p-1<br>\n",
    ":card: rounded<br>\n",
    "\n",
    "<i class='fa fa-qrcode fa-2x' style='color:#7e0038;'></i><br>\n",
    "^^^\n",
    "<h4><b>Recipe metadata</b></h4>\n",
    " identifier: <a href=\"http://w3id.org/faircookbook/FCB041\">FCB041</a>\n",
    " version: <a href=\"\">v1.0</a>\n",
    "\n",
    "---\n",
    "<i class='fa fa-fire fa-2x' style='color:#7e0038;'></i>\n",
    "^^^\n",
    "<h4><b>Difficulty level</b></h4>\n",
    "<i class='fa fa-fire fa-lg' style='color:#7e0038;'></i>\n",
    "<i class='fa fa-fire fa-lg' style='color:#7e0038;'></i>\n",
    "<i class='fa fa-fire fa-lg' style='color:#7e0038;'></i>\n",
    "<i class='fa fa-fire fa-lg' style='color:#7e0038;'></i>\n",
    "<i class='fa fa-fire fa-lg' style='color:lightgrey'></i>\n",
    "\n",
    "---\n",
    "<i class='fas fa-clock fa-2x' style='color:#7e0038;'></i>\n",
    "^^^\n",
    "<h4><b>Reading Time</b></h4>\n",
    "<i class='fa fa-clock fa-lg' style='color:#7e0038;'></i> 30 minutes\n",
    "<h4><b>Recipe Type</b></h4>\n",
    "<i class='fa fa-globe fa-lg' style='color:#7e0038;'></i> Hands-on\n",
    "<h4><b>Executable Code</b></h4>\n",
    "<i class='fa fa-play-circle fa-lg' style='color:#7e0038;'></i> Yes\n",
    "\n",
    "---\n",
    "<i class='fa fa-users fa-2x' style='color:#7e0038;'></i>\n",
    "^^^\n",
    "<h4><b>Intended Audience</b></h4>\n",
    "<!-- <p> <i class='fa fa-user-md fa-lg' style='color:#7e0038;'></i> Principal Investigator </p> -->\n",
    "<p> <i class='fa fa-database fa-lg' style='color:#7e0038;'></i> Data Manager </p>\n",
    "<p> <i class='fa fa-wrench fa-lg' style='color:#7e0038;'></i> Data Scientist </p>\n",
    "````\n",
    "---\n",
    "\n",
    "**title:** ` ` <br>\n",
    "**author:** `philippe.rocca-serra@oerc.ox.ac.uk` <br>\n",
    "**date:** `2020-05-11` <br>\n",
    "**license:** [`creative-commons-by-sa-4.0`](https://creativecommons.org/licenses/by/4.0/) <br>\n",
    "**keywords:** ` ` <br>\n",
    "**description:** ` ` <br>\n",
    "\n",
    "Background: \n",
    "\n",
    "Experimental results such as metabolite profiling data published in [1,2] can be straightfowardly reported using [OKFN Data Packages](https://frictionlessdata.io/specs/tabular-data-package/). Such components can be easily parsed into R and exploited with rich graphical libraries, such as the well know ggplot2 (https://ggplot2.tidyverse.org/).\nA few lines of code allow to query datasets and rapidly explore the information. Most importantly, this rapid exploration is possible because of independent variables and because their levels have been clearly and unambiguously declared in the Tabular Data Package itself."
   ]
  },
  {
   "cell_type": "markdown",
   "metadata": {},
   "source": [
    "\n",
    "1. Let's begin by installing the R packages allowing easy access and use of data formatted as JSON Data Package"
   ]
  },
  {
   "cell_type": "code",
   "execution_count": null,
   "metadata": {},
   "outputs": [],
   "source": [
    "install.packages(\"ggplot2\")\n",
    "install.packages(\"readr\")\n",
    "install.packages(\"devtools\")"
   ]
  },
  {
   "cell_type": "code",
   "execution_count": null,
   "metadata": {},
   "outputs": [],
   "source": [
    "library(ggplot2) \n",
    "library(readr)\n",
    "library(devtools)"
   ]
  },
  {
   "cell_type": "markdown",
   "metadata": {},
   "source": [
    "2. Here, we install an additional library, providing some additional customization of graphs and plots"
   ]
  },
  {
   "cell_type": "code",
   "execution_count": null,
   "metadata": {},
   "outputs": [],
   "source": [
    "install_github(\"kassambara/easyGgplot2\") \n",
    "library(easyGgplot2) "
   ]
  },
  {
   "cell_type": "markdown",
   "metadata": {},
   "source": [
    "3. Reading the data\n",
    "\n",
    "We now simply read in the comma-separated-file associated with the tabular data package (a \"long\" table)"
   ]
  },
  {
   "cell_type": "code",
   "execution_count": null,
   "metadata": {},
   "outputs": [],
   "source": [
    "# rose arome nature genetics data from 2018 and plotting for the different treatment groups:\n",
    "# rosedata <- read_csv(\"../data/processed/rose-data/rose-aroma-naturegenetics2018-treatment-group-mean-sem-report-table-example.csv\")\n",
    "rosedata <- read_csv(\"https://zenodo.org/api/files/ba3fbc84-14af-4858-a9ed-e6cfe8d4efd2/rose-aroma-naturegenetics2018-treatment-group-mean-sem-report-table-example.csv\")"
   ]
  },
  {
   "cell_type": "markdown",
   "metadata": {},
   "source": [
    "4. Plotting the data: We then generate a barplot using the ggplot2 library"
   ]
  },
  {
   "cell_type": "code",
   "execution_count": null,
   "metadata": {},
   "outputs": [],
   "source": [
    "ggplot2.barplot(data=rosedata, xName=\"chemical_name\", yName=\"sample_mean\", faceting=TRUE, facetingVarNames=\"treatment\", facetingDirection=\"vertical\",facetingScales=\"free\", groupName=\"treatment\", groupColors=c('#999999','#E69F00','pink','coral','grey','lightblue','aquamarine3','orange'), xtitle=\"chemical name\",ytitle=\"mean concentration\", xtitleFont=c(10,\"plain\",\"darkblue\"),ytitleFont=c(10,\"plain\",\"darkblue\"), xTickLabelFont=c(8,\"italic\", \"black\"), yTickLabelFont=c(8,\"italic\",\"black\"), legendPosition=\"right\",legendTitle=\"Treatment\", legendTitleFont=c(10, \"bold\", \"black\"), legendTextFont=c(9, \"plain\", \"black\"), legendBackground=c(\"white\", 0.5, \"solid\", \"black\" )) + theme(axis.text.x=element_text(angle=90, hjust=1),strip.text.y = element_text(angle=0, colour=\"black\",face=\"plain\",size=8))"
   ]
  },
  {
   "cell_type": "markdown",
   "metadata": {},
   "source": [
    "5. Let's now compare the dataset generated in 2015 and the dataset generated in 2018\n",
    "\n",
    "Both datasets have been generated by the same team, on the same genotype (Rosa Chinensis 'Old Blush') and organism part ('sepals'). Both datasets are held in a Tabular Data Package with the same structure. To perform the comparison, we have simply created another tabular data package, which retains the exact same structure and that simply holds the measurements for the relevant conditions extracted from each dataset (the function to create such file is omitted)."
   ]
  },
  {
   "cell_type": "code",
   "execution_count": null,
   "metadata": {},
   "outputs": [],
   "source": [
    "# rose arome nature genetics data from 2018 and plotting for the different treatment groups:\n",
    "# ng2018sc2015 <- read_csv(\"../data/processed/rose-data/rose_aroma_compound_science2015_vs_NG2018_data_integration.csv\")\n",
    "ng2018sc2015 <- read_csv(\"https://zenodo.org/api/files/268f29fc-8ead-4049-bb86-181b72073682/rose_aroma_compound_science2015_vs_NG2018_data_integration.csv\")\n"
   ]
  },
  {
   "cell_type": "markdown",
   "metadata": {},
   "source": [
    "6. We generate another barplot, which shows the concentration of the chemicals targeted by the GC-MS profiling assay"
   ]
  },
  {
   "cell_type": "code",
   "execution_count": null,
   "metadata": {},
   "outputs": [],
   "source": [
    "ggplot2.barplot(data=ng2018sc2015, xName=\"chemical_name\", yName=\"normalized_to_total_sum_concentration\", faceting=TRUE, facetingVarNames=\"publication_year\", facetingDirection=\"vertical\",facetingScales=\"free\", groupName=\"publication_year\", groupColors=c('aquamarine3','orange'), xtitle=\"chemical name\",ytitle=\"normalizated to total sum concentration\", xtitleFont=c(10,\"plain\",\"darkblue\"),ytitleFont=c(10,\"plain\",\"darkblue\"), xTickLabelFont=c(8,\"italic\", \"black\"), yTickLabelFont=c(8,\"italic\",\"black\"),  legendPosition=\"right\", legendTitle=\"Treatment\", legendTitleFont=c(10, \"bold\", \"black\"),           legendTextFont=c(9, \"plain\", \"black\"), legendBackground=c(\"white\", 0.5, \"solid\", \"black\" ))  + theme(axis.text.x=element_text(angle=90, hjust=1),strip.text.y = element_text(angle=0, colour=\"black\",face=\"plain\",size=8))"
   ]
  },
  {
   "cell_type": "markdown",
   "metadata": {},
   "source": [
    "What do we see? The figure shows how consistant the chemical profile of the scent between the 2 studies is and which prevalent compounds such as X, Y, and Z show roughly similar relative amount within and across studies."
   ]
  },
  {
   "cell_type": "markdown",
   "metadata": {},
   "source": [
    "#### Bibliographic Reference:\n",
    "\n",
    "[1.Magnard JL, Roccia A, Caissard JC, Vergne P, Sun P, Hecquet R, Dubois A, Hibrand-Saint Oyant L, Jullien F, Nicolè F, Raymond O, Huguet S, Baltenweck R, Meyer S, Claudel P, Jeauffre J, Rohmer M, Foucher F, Hugueney P, Bendahmane M, Baudino S. PLANT VOLATILES. Biosynthesis of monoterpene scent compounds in roses. Science. 2015 Jul 3;349(6243):81-3.](https://doi.org/10.1126/science.aab0696)\n",
    "\n",
    "[2.Raymond O, Gouzy J, Just J, Badouin H, Verdenaud M, Lemainque A, Vergne P, Moja S, Choisne N, Pont C, Carrère S, Caissard JC, Couloux A, Cottret L, Aury JM, Szécsi J, Latrasse D, Madoui MA, François L, Fu X, Yang SH, Dubois A, Piola F, Larrieu A, Perez M, Labadie K, Perrier L, Govetto B, Labrousse Y, Villand P, Bardoux C, Boltz V, Lopez-Roques C, Heitzler P, Vernoux T, Vandenbussche M, Quesneville H, Boualem A, Bendahmane A, Liu C, Le Bris M, Salse J, Baudino S, Benhamed M, Wincker P, Bendahmane M. The Rosa genome provides new insights into the domestication of modern roses. Nat Genet. 2018 Jun;50(6):772-777.](https://doi.org/10.1038/s41588-018-0110-3)\n"
   ]
  }
 ],
 "metadata": {
  "kernelspec": {
   "display_name": "R",
   "language": "R",
   "name": "ir"
  },
  "language_info": {
   "codemirror_mode": "r",
   "file_extension": ".r",
   "mimetype": "text/x-r-source",
   "name": "R",
   "pygments_lexer": "r",
   "version": "3.5.3"
  }
 },
 "nbformat": 4,
 "nbformat_minor": 2
}
